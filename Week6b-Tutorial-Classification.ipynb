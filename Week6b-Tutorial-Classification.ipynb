{
 "cells": [
  {
   "cell_type": "code",
   "execution_count": 1,
   "metadata": {},
   "outputs": [],
   "source": [
    "#Load Libraries\n",
    "import pandas as pd\n",
    "import numpy as np\n",
    "import matplotlib.pyplot as plt\n",
    "%matplotlib inline"
   ]
  },
  {
   "cell_type": "code",
   "execution_count": 2,
   "metadata": {},
   "outputs": [
    {
     "data": {
      "text/html": [
       "<div>\n",
       "<style scoped>\n",
       "    .dataframe tbody tr th:only-of-type {\n",
       "        vertical-align: middle;\n",
       "    }\n",
       "\n",
       "    .dataframe tbody tr th {\n",
       "        vertical-align: top;\n",
       "    }\n",
       "\n",
       "    .dataframe thead th {\n",
       "        text-align: right;\n",
       "    }\n",
       "</style>\n",
       "<table border=\"1\" class=\"dataframe\">\n",
       "  <thead>\n",
       "    <tr style=\"text-align: right;\">\n",
       "      <th></th>\n",
       "      <th>sepal_length</th>\n",
       "      <th>sepal_width</th>\n",
       "      <th>petal_length</th>\n",
       "      <th>petal_width</th>\n",
       "      <th>species</th>\n",
       "    </tr>\n",
       "  </thead>\n",
       "  <tbody>\n",
       "    <tr>\n",
       "      <th>0</th>\n",
       "      <td>5.1</td>\n",
       "      <td>3.5</td>\n",
       "      <td>1.4</td>\n",
       "      <td>0.2</td>\n",
       "      <td>setosa</td>\n",
       "    </tr>\n",
       "    <tr>\n",
       "      <th>1</th>\n",
       "      <td>4.9</td>\n",
       "      <td>3.0</td>\n",
       "      <td>1.4</td>\n",
       "      <td>0.2</td>\n",
       "      <td>setosa</td>\n",
       "    </tr>\n",
       "    <tr>\n",
       "      <th>2</th>\n",
       "      <td>4.7</td>\n",
       "      <td>3.2</td>\n",
       "      <td>1.3</td>\n",
       "      <td>0.2</td>\n",
       "      <td>setosa</td>\n",
       "    </tr>\n",
       "    <tr>\n",
       "      <th>3</th>\n",
       "      <td>4.6</td>\n",
       "      <td>3.1</td>\n",
       "      <td>1.5</td>\n",
       "      <td>0.2</td>\n",
       "      <td>setosa</td>\n",
       "    </tr>\n",
       "    <tr>\n",
       "      <th>4</th>\n",
       "      <td>5.0</td>\n",
       "      <td>3.6</td>\n",
       "      <td>1.4</td>\n",
       "      <td>0.2</td>\n",
       "      <td>setosa</td>\n",
       "    </tr>\n",
       "  </tbody>\n",
       "</table>\n",
       "</div>"
      ],
      "text/plain": [
       "   sepal_length  sepal_width  petal_length  petal_width species\n",
       "0           5.1          3.5           1.4          0.2  setosa\n",
       "1           4.9          3.0           1.4          0.2  setosa\n",
       "2           4.7          3.2           1.3          0.2  setosa\n",
       "3           4.6          3.1           1.5          0.2  setosa\n",
       "4           5.0          3.6           1.4          0.2  setosa"
      ]
     },
     "execution_count": 2,
     "metadata": {},
     "output_type": "execute_result"
    }
   ],
   "source": [
    "#Load Dataset\n",
    "iris = pd.read_csv('./iris.csv')\n",
    "iris.head()"
   ]
  },
  {
   "cell_type": "code",
   "execution_count": 3,
   "metadata": {},
   "outputs": [],
   "source": [
    "#Create x and y variables\n",
    "x = iris.drop('species', axis=1).to_numpy()\n",
    "y = iris['species'].to_numpy()\n",
    "\n",
    "#Create Train and Test Dataset\n",
    "from sklearn.model_selection import train_test_split\n",
    "x_train,x_test,y_train,y_test=train_test_split(x,y,test_size=0.2,stratify=y,random_state=100)\n",
    "\n",
    "#Fix the imbalanced Classes\n",
    "from imblearn.over_sampling import SMOTE\n",
    "smt=SMOTE(random_state=100)\n",
    "x_train_smt,y_train_smt = smt.fit_resample(x_train,y_train)\n",
    "\n",
    "#Scale the Data\n",
    "from sklearn.preprocessing import StandardScaler\n",
    "sc = StandardScaler()\n",
    "x_train2 = sc.fit_transform(x_train_smt)\n",
    "x_test2 = sc.transform(x_test)\n",
    "\n",
    "x_2 = sc.transform(x)"
   ]
  },
  {
   "cell_type": "code",
   "execution_count": 4,
   "metadata": {},
   "outputs": [
    {
     "name": "stdout",
     "output_type": "stream",
     "text": [
      "Train Data - Class Split\n",
      "Setosa - 40\n",
      "Versicolor - 40\n",
      "Virginica - 40\n"
     ]
    }
   ],
   "source": [
    "#Class Balance - Test Data\n",
    "print('Train Data - Class Split')\n",
    "num_set = (y_train_smt == 'setosa').sum()\n",
    "num_versi = (y_train_smt == 'versicolor').sum()\n",
    "num_virg = (y_train_smt == 'virginica').sum()\n",
    "print('Setosa -',  num_set)\n",
    "print('Versicolor -',  num_versi)\n",
    "print('Virginica -',  num_virg)"
   ]
  },
  {
   "cell_type": "code",
   "execution_count": 5,
   "metadata": {},
   "outputs": [],
   "source": [
    "#Model\n",
    "from sklearn.linear_model import LogisticRegression\n",
    "model = [LogisticRegression(multi_class='multinomial',\n",
    "                              solver='newton-cg',random_state=100,\n",
    "                              max_iter=1000)]"
   ]
  },
  {
   "cell_type": "code",
   "execution_count": 6,
   "metadata": {
    "scrolled": true
   },
   "outputs": [
    {
     "data": {
      "text/html": [
       "<div>\n",
       "<style scoped>\n",
       "    .dataframe tbody tr th:only-of-type {\n",
       "        vertical-align: middle;\n",
       "    }\n",
       "\n",
       "    .dataframe tbody tr th {\n",
       "        vertical-align: top;\n",
       "    }\n",
       "\n",
       "    .dataframe thead th {\n",
       "        text-align: right;\n",
       "    }\n",
       "</style>\n",
       "<table border=\"1\" class=\"dataframe\">\n",
       "  <thead>\n",
       "    <tr style=\"text-align: right;\">\n",
       "      <th></th>\n",
       "      <th>Algorithm Name</th>\n",
       "      <th>KFcv Model</th>\n",
       "      <th>rKFcv Model</th>\n",
       "      <th>ShuffleSplit Model</th>\n",
       "    </tr>\n",
       "  </thead>\n",
       "  <tbody>\n",
       "    <tr>\n",
       "      <th>0</th>\n",
       "      <td>LogisticRegression</td>\n",
       "      <td>0.95</td>\n",
       "      <td>0.95</td>\n",
       "      <td>0.95</td>\n",
       "    </tr>\n",
       "  </tbody>\n",
       "</table>\n",
       "</div>"
      ],
      "text/plain": [
       "       Algorithm Name  KFcv Model  rKFcv Model  ShuffleSplit Model\n",
       "0  LogisticRegression        0.95         0.95                0.95"
      ]
     },
     "execution_count": 6,
     "metadata": {},
     "output_type": "execute_result"
    }
   ],
   "source": [
    "#Create Model Comparison\n",
    "from sklearn.model_selection import KFold\n",
    "from sklearn.model_selection import RepeatedKFold\n",
    "from sklearn.model_selection import ShuffleSplit\n",
    "from sklearn.model_selection import cross_validate\n",
    "\n",
    "#Scoring Parameters\n",
    "scoring = {'acc': 'accuracy'}\n",
    "\n",
    "#Model Creation\n",
    "MLA_columns = []\n",
    "MLA_compare = pd.DataFrame(columns = MLA_columns)\n",
    "\n",
    "row_index = 0\n",
    "for alg in model:\n",
    "    \n",
    "    #K-Fold CV\n",
    "    kfcv = alg\n",
    "    kf = KFold(n_splits=10, shuffle=True, random_state=100)\n",
    "    KFcv = cross_validate(kfcv, x_2, y, scoring=scoring,\n",
    "                         cv=kf)\n",
    "    \n",
    "    #Repeated K-Fold CV\n",
    "    rkfcv = alg.fit(x_train2, y_train_smt)\n",
    "    rkf = RepeatedKFold(n_splits=10, n_repeats=3, random_state=100)\n",
    "    rKFcv = cross_validate(rkfcv, x_2, y, scoring=scoring,\n",
    "                         cv=rkf)\n",
    "    \n",
    "    #Shuffle-Split\n",
    "    rsmodel=alg.fit(x_train2, y_train_smt)\n",
    "    rs = ShuffleSplit(n_splits=10, test_size=.20, random_state=100)\n",
    "    rscv = cross_validate(rsmodel, x_2, y, scoring=scoring,\n",
    "                         cv=rs)\n",
    "        \n",
    "    MLA_name = alg.__class__.__name__\n",
    "    MLA_compare.loc[row_index,'Algorithm Name'] = MLA_name\n",
    "    MLA_compare.loc[row_index, 'KFcv Model'] = round(KFcv['test_acc'].mean(),2)\n",
    "    MLA_compare.loc[row_index, 'rKFcv Model'] = round(rKFcv['test_acc'].mean(),2)\n",
    "    MLA_compare.loc[row_index, 'ShuffleSplit Model'] = round(rscv['test_acc'].mean(),2)\n",
    "    \n",
    "    row_index+=1\n",
    "\n",
    "MLA_compare"
   ]
  },
  {
   "cell_type": "code",
   "execution_count": 7,
   "metadata": {},
   "outputs": [
    {
     "name": "stdout",
     "output_type": "stream",
     "text": [
      "Accuracy - LOOCV: 0.95\n"
     ]
    }
   ],
   "source": [
    "#LOOCV\n",
    "from sklearn.model_selection import LeaveOneOut\n",
    "from sklearn.model_selection import cross_val_score\n",
    "from numpy import mean\n",
    "from sklearn import metrics\n",
    "\n",
    "model = LogisticRegression(multi_class='multinomial',\n",
    "                              solver='newton-cg',random_state=100,\n",
    "                              max_iter=1000)\n",
    "loocv =  LeaveOneOut()\n",
    "# evaluate model\n",
    "scoreloocv = cross_val_score(model, x_2, y, scoring='accuracy', cv=loocv)\n",
    "print('Accuracy - LOOCV:',round(mean(scoreloocv),2))                      "
   ]
  },
  {
   "cell_type": "code",
   "execution_count": 8,
   "metadata": {},
   "outputs": [
    {
     "name": "stdout",
     "output_type": "stream",
     "text": [
      "Accuracy - Original Model: 0.96\n"
     ]
    }
   ],
   "source": [
    "#Original Model - ACC\n",
    "\n",
    "from sklearn.metrics import accuracy_score\n",
    "\n",
    "n_inter = 1000\n",
    "ACC_org =list()\n",
    "\n",
    "for i in range(n_inter):\n",
    "    \n",
    "    #Model\n",
    "    method = model\n",
    "    #Create Train and Test Datasets\n",
    "    x_trainorg,x_testorg,y_trainorg,y_testorg=train_test_split(x,y,test_size=0.2)\n",
    "    #Fix the imbalanced Classes\n",
    "    x_trainorg_smt,y_trainorg_smt = smt.fit_resample(x_trainorg,y_trainorg)\n",
    "    #Scale the Data\n",
    "    x_trainorg_smt2 = sc.fit_transform(x_trainorg_smt)\n",
    "    x_testorg2 = sc.transform(x_testorg)\n",
    "    #Create the Model\n",
    "    method.fit(x_trainorg_smt2,y_trainorg_smt)\n",
    "    predictorg = method.predict(x_testorg2)\n",
    "    ACCorg = accuracy_score(y_testorg,predictorg)\n",
    "    ACC_org.append(ACCorg)                     \n",
    "       \n",
    "MeanACC_org = mean(ACC_org)\n",
    "print('Accuracy - Original Model:',round(MeanACC_org,2))                      "
   ]
  },
  {
   "cell_type": "code",
   "execution_count": 9,
   "metadata": {},
   "outputs": [
    {
     "data": {
      "image/png": "[encoded data removed]",
      "text/plain": [
       "<Figure size 432x288 with 1 Axes>"
      ]
     },
     "metadata": {
      "needs_background": "light"
     },
     "output_type": "display_data"
    },
    {
     "name": "stdout",
     "output_type": "stream",
     "text": [
      "\n",
      "95.0% Confidence Interval: Accuracy 90.21% to 98.88%\n"
     ]
    }
   ],
   "source": [
    "# configure bootstrap\n",
    "from sklearn.utils import resample\n",
    "from sklearn.metrics import accuracy_score\n",
    "\n",
    "n_iterations = 1000\n",
    "n_size = int(len(iris) * 0.50)\n",
    "# run bootstrap\n",
    "stats = list()\n",
    "for i in range(n_iterations):\n",
    "    # prepare train and test sets\n",
    "    train = resample(iris.values, n_samples=n_size)\n",
    "    test = np.array([x for x in iris.values if x.tolist() not in train.tolist()])\n",
    "    # fit model\n",
    "    model = LogisticRegression(multi_class='multinomial',\n",
    "                            solver='newton-cg',random_state=100,\n",
    "                            max_iter=1000)\n",
    "    model.fit(train[:,:-1], train[:,-1])\n",
    "    # evaluate model\n",
    "    predictions = model.predict(test[:,:-1])\n",
    "    score = accuracy_score(test[:,-1], predictions)\n",
    "    #print(score)\n",
    "    stats.append(score)\n",
    "# plot scores\n",
    "plt.hist(stats)\n",
    "plt.show()\n",
    "# confidence intervals\n",
    "alpha = 0.95\n",
    "p = ((1.0-alpha)/2.0) * 100\n",
    "lower = max(0.0, np.percentile(stats, p))\n",
    "p = (alpha+((1.0-alpha)/2.0)) * 100\n",
    "upper = min(1.0, np.percentile(stats, p))\n",
    "print('\\n{}% Confidence Interval: Accuracy {}% to {}%'.format(alpha*100,round(lower*100,2),round(upper*100,2)))"
   ]
  }
 ],
 "metadata": {
  "kernelspec": {
   "display_name": "Python 3",
   "language": "python",
   "name": "python3"
  },
  "language_info": {
   "codemirror_mode": {
    "name": "ipython",
    "version": 3
   },
   "file_extension": ".py",
   "mimetype": "text/x-python",
   "name": "python",
   "nbconvert_exporter": "python",
   "pygments_lexer": "ipython3",
   "version": "3.8.8"
  }
 },
 "nbformat": 4,
 "nbformat_minor": 2
}
