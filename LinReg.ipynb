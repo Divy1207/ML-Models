{
 "cells": [
  {
   "cell_type": "code",
   "execution_count": 1,
   "metadata": {},
   "outputs": [],
   "source": [
    "#Load Libraries\n",
    "import numpy as np\n",
    "import pandas as pd\n",
    "import seaborn as sns\n",
    "import matplotlib.pyplot as plt\n",
    "%matplotlib inline"
   ]
  },
  {
   "cell_type": "code",
   "execution_count": 2,
   "metadata": {},
   "outputs": [
    {
     "data": {
      "text/html": [
       "<div>\n",
       "<style scoped>\n",
       "    .dataframe tbody tr th:only-of-type {\n",
       "        vertical-align: middle;\n",
       "    }\n",
       "\n",
       "    .dataframe tbody tr th {\n",
       "        vertical-align: top;\n",
       "    }\n",
       "\n",
       "    .dataframe thead th {\n",
       "        text-align: right;\n",
       "    }\n",
       "</style>\n",
       "<table border=\"1\" class=\"dataframe\">\n",
       "  <thead>\n",
       "    <tr style=\"text-align: right;\">\n",
       "      <th></th>\n",
       "      <th>id</th>\n",
       "      <th>speed</th>\n",
       "      <th>dist</th>\n",
       "    </tr>\n",
       "  </thead>\n",
       "  <tbody>\n",
       "    <tr>\n",
       "      <th>0</th>\n",
       "      <td>1</td>\n",
       "      <td>4</td>\n",
       "      <td>2</td>\n",
       "    </tr>\n",
       "    <tr>\n",
       "      <th>1</th>\n",
       "      <td>2</td>\n",
       "      <td>4</td>\n",
       "      <td>10</td>\n",
       "    </tr>\n",
       "    <tr>\n",
       "      <th>2</th>\n",
       "      <td>3</td>\n",
       "      <td>7</td>\n",
       "      <td>4</td>\n",
       "    </tr>\n",
       "    <tr>\n",
       "      <th>3</th>\n",
       "      <td>4</td>\n",
       "      <td>7</td>\n",
       "      <td>22</td>\n",
       "    </tr>\n",
       "    <tr>\n",
       "      <th>4</th>\n",
       "      <td>5</td>\n",
       "      <td>8</td>\n",
       "      <td>16</td>\n",
       "    </tr>\n",
       "  </tbody>\n",
       "</table>\n",
       "</div>"
      ],
      "text/plain": [
       "   id  speed  dist\n",
       "0   1      4     2\n",
       "1   2      4    10\n",
       "2   3      7     4\n",
       "3   4      7    22\n",
       "4   5      8    16"
      ]
     },
     "execution_count": 2,
     "metadata": {},
     "output_type": "execute_result"
    }
   ],
   "source": [
    "#Load Dataset\n",
    "carslm = pd.read_csv('./carslm.csv')\n",
    "carslm.head()"
   ]
  },
  {
   "cell_type": "code",
   "execution_count": 3,
   "metadata": {},
   "outputs": [
    {
     "data": {
      "text/html": [
       "<div>\n",
       "<style scoped>\n",
       "    .dataframe tbody tr th:only-of-type {\n",
       "        vertical-align: middle;\n",
       "    }\n",
       "\n",
       "    .dataframe tbody tr th {\n",
       "        vertical-align: top;\n",
       "    }\n",
       "\n",
       "    .dataframe thead th {\n",
       "        text-align: right;\n",
       "    }\n",
       "</style>\n",
       "<table border=\"1\" class=\"dataframe\">\n",
       "  <thead>\n",
       "    <tr style=\"text-align: right;\">\n",
       "      <th></th>\n",
       "      <th>speed</th>\n",
       "      <th>dist</th>\n",
       "    </tr>\n",
       "  </thead>\n",
       "  <tbody>\n",
       "    <tr>\n",
       "      <th>0</th>\n",
       "      <td>4</td>\n",
       "      <td>2</td>\n",
       "    </tr>\n",
       "    <tr>\n",
       "      <th>1</th>\n",
       "      <td>4</td>\n",
       "      <td>10</td>\n",
       "    </tr>\n",
       "    <tr>\n",
       "      <th>2</th>\n",
       "      <td>7</td>\n",
       "      <td>4</td>\n",
       "    </tr>\n",
       "    <tr>\n",
       "      <th>3</th>\n",
       "      <td>7</td>\n",
       "      <td>22</td>\n",
       "    </tr>\n",
       "    <tr>\n",
       "      <th>4</th>\n",
       "      <td>8</td>\n",
       "      <td>16</td>\n",
       "    </tr>\n",
       "  </tbody>\n",
       "</table>\n",
       "</div>"
      ],
      "text/plain": [
       "   speed  dist\n",
       "0      4     2\n",
       "1      4    10\n",
       "2      7     4\n",
       "3      7    22\n",
       "4      8    16"
      ]
     },
     "execution_count": 3,
     "metadata": {},
     "output_type": "execute_result"
    }
   ],
   "source": [
    "#Drop ID Column\n",
    "dfnew =carslm.drop('id',axis=1)\n",
    "dfnew.head()"
   ]
  },
  {
   "cell_type": "code",
   "execution_count": 4,
   "metadata": {},
   "outputs": [
    {
     "data": {
      "text/html": [
       "<div>\n",
       "<style scoped>\n",
       "    .dataframe tbody tr th:only-of-type {\n",
       "        vertical-align: middle;\n",
       "    }\n",
       "\n",
       "    .dataframe tbody tr th {\n",
       "        vertical-align: top;\n",
       "    }\n",
       "\n",
       "    .dataframe thead th {\n",
       "        text-align: right;\n",
       "    }\n",
       "</style>\n",
       "<table border=\"1\" class=\"dataframe\">\n",
       "  <thead>\n",
       "    <tr style=\"text-align: right;\">\n",
       "      <th></th>\n",
       "      <th>speed</th>\n",
       "      <th>dist</th>\n",
       "    </tr>\n",
       "  </thead>\n",
       "  <tbody>\n",
       "    <tr>\n",
       "      <th>count</th>\n",
       "      <td>50.000000</td>\n",
       "      <td>50.000000</td>\n",
       "    </tr>\n",
       "    <tr>\n",
       "      <th>mean</th>\n",
       "      <td>15.400000</td>\n",
       "      <td>42.980000</td>\n",
       "    </tr>\n",
       "    <tr>\n",
       "      <th>std</th>\n",
       "      <td>5.287644</td>\n",
       "      <td>25.769377</td>\n",
       "    </tr>\n",
       "    <tr>\n",
       "      <th>min</th>\n",
       "      <td>4.000000</td>\n",
       "      <td>2.000000</td>\n",
       "    </tr>\n",
       "    <tr>\n",
       "      <th>25%</th>\n",
       "      <td>12.000000</td>\n",
       "      <td>26.000000</td>\n",
       "    </tr>\n",
       "    <tr>\n",
       "      <th>50%</th>\n",
       "      <td>15.000000</td>\n",
       "      <td>36.000000</td>\n",
       "    </tr>\n",
       "    <tr>\n",
       "      <th>75%</th>\n",
       "      <td>19.000000</td>\n",
       "      <td>56.000000</td>\n",
       "    </tr>\n",
       "    <tr>\n",
       "      <th>max</th>\n",
       "      <td>25.000000</td>\n",
       "      <td>120.000000</td>\n",
       "    </tr>\n",
       "  </tbody>\n",
       "</table>\n",
       "</div>"
      ],
      "text/plain": [
       "           speed        dist\n",
       "count  50.000000   50.000000\n",
       "mean   15.400000   42.980000\n",
       "std     5.287644   25.769377\n",
       "min     4.000000    2.000000\n",
       "25%    12.000000   26.000000\n",
       "50%    15.000000   36.000000\n",
       "75%    19.000000   56.000000\n",
       "max    25.000000  120.000000"
      ]
     },
     "execution_count": 4,
     "metadata": {},
     "output_type": "execute_result"
    }
   ],
   "source": [
    "#Show Key Statistics\n",
    "dfnew.describe()"
   ]
  },
  {
   "cell_type": "code",
   "execution_count": 5,
   "metadata": {},
   "outputs": [
    {
     "name": "stdout",
     "output_type": "stream",
     "text": [
      "<class 'pandas.core.frame.DataFrame'>\n",
      "RangeIndex: 50 entries, 0 to 49\n",
      "Data columns (total 2 columns):\n",
      " #   Column  Non-Null Count  Dtype\n",
      "---  ------  --------------  -----\n",
      " 0   speed   50 non-null     int64\n",
      " 1   dist    50 non-null     int64\n",
      "dtypes: int64(2)\n",
      "memory usage: 928.0 bytes\n"
     ]
    }
   ],
   "source": [
    "#Overview of Dataset Characteristics\n",
    "dfnew.info()"
   ]
  },
  {
   "cell_type": "code",
   "execution_count": 6,
   "metadata": {},
   "outputs": [
    {
     "data": {
      "application/vnd.jupyter.widget-view+json": {
       "model_id": "84298f5dcd734b5393104b78af536ae1",
       "version_major": 2,
       "version_minor": 0
      },
      "text/plain": [
       "Summarize dataset:   0%|          | 0/15 [00:00<?, ?it/s]"
      ]
     },
     "metadata": {},
     "output_type": "display_data"
    },
    {
     "data": {
      "application/vnd.jupyter.widget-view+json": {
       "model_id": "c10541e9e15242518ef1297e2b42808d",
       "version_major": 2,
       "version_minor": 0
      },
      "text/plain": [
       "Generate report structure:   0%|          | 0/1 [00:00<?, ?it/s]"
      ]
     },
     "metadata": {},
     "output_type": "display_data"
    },
    {
     "data": {
      "application/vnd.jupyter.widget-view+json": {
       "model_id": "184096a835864552abea0dbfef3b5826",
       "version_major": 2,
       "version_minor": 0
      },
      "text/plain": [
       "Render HTML:   0%|          | 0/1 [00:00<?, ?it/s]"
      ]
     },
     "metadata": {},
     "output_type": "display_data"
    },
    {
     "data": {
      "application/vnd.jupyter.widget-view+json": {
       "model_id": "3512b8d61e7e493e823b335ad7809798",
       "version_major": 2,
       "version_minor": 0
      },
      "text/plain": [
       "Export report to file:   0%|          | 0/1 [00:00<?, ?it/s]"
      ]
     },
     "metadata": {},
     "output_type": "display_data"
    },
    {
     "data": {
      "text/html": [
       "\n",
       "        <iframe\n",
       "            width=\"900\"\n",
       "            height=\"350\"\n",
       "            src=\"carslmReport2a.html\"\n",
       "            frameborder=\"0\"\n",
       "            allowfullscreen\n",
       "        ></iframe>\n",
       "        "
      ],
      "text/plain": [
       "<IPython.lib.display.IFrame at 0x1c2eb087130>"
      ]
     },
     "metadata": {},
     "output_type": "display_data"
    }
   ],
   "source": [
    "#Create Profile Report\n",
    "    \n",
    "#Importing package\n",
    "import pandas_profiling as pp\n",
    "from IPython.display import IFrame\n",
    " \n",
    "#Profile Report\n",
    "carslmReport = pp.ProfileReport(dfnew)\n",
    "carslmReport.to_file('carslmReport2a.html')\n",
    "display(IFrame('carslmReport2a.html', width=900, height=350))"
   ]
  },
  {
   "cell_type": "code",
   "execution_count": 7,
   "metadata": {},
   "outputs": [
    {
     "data": {
      "image/png": "[encoded data removed]",
      "text/plain": [
       "<Figure size 432x288 with 1 Axes>"
      ]
     },
     "metadata": {
      "needs_background": "light"
     },
     "output_type": "display_data"
    }
   ],
   "source": [
    "#Create Q-Q Plot\n",
    "from statsmodels.graphics.gofplots import qqplot\n",
    "import pylab\n",
    "qqplot(dfnew['speed'],line='s')\n",
    "pylab.show()"
   ]
  },
  {
   "cell_type": "code",
   "execution_count": 8,
   "metadata": {},
   "outputs": [
    {
     "name": "stdout",
     "output_type": "stream",
     "text": [
      "Statistics=0.978, p=0.458\n",
      "Sample looks Gaussian (fail to reject H0)\n"
     ]
    }
   ],
   "source": [
    "#Normality test - Shapiro-Wilk Test\n",
    "\n",
    "#    p <= alpha(0.05): reject H0, not normal.\n",
    "#   p > alpha(0.05): fail to reject H0, normal.\n",
    "\n",
    "from scipy.stats import shapiro\n",
    "stat, p = shapiro(dfnew['speed'])\n",
    "print('Statistics=%.3f, p=%.3f' % (stat, p))\n",
    "# interpret\n",
    "alpha = 0.05\n",
    "if p > alpha:\n",
    "    print('Sample looks Gaussian (fail to reject H0)')\n",
    "else:\n",
    "    print('Sample does not look Gaussian (reject H0)')"
   ]
  },
  {
   "cell_type": "code",
   "execution_count": 9,
   "metadata": {},
   "outputs": [],
   "source": [
    "#Define x and y variable\n",
    "x=dfnew['speed'].to_numpy()\n",
    "y=dfnew['dist'].to_numpy()\n",
    "\n",
    "#Create Train and Test Datasets\n",
    "from sklearn.model_selection import train_test_split\n",
    "x_train,x_test,y_train,y_test=train_test_split(x,y,test_size=0.2,random_state=100)\n",
    "\n",
    "#Converting variables to 2D\n",
    "x_train2 = x_train.reshape(-1,1)\n",
    "x_test2 = x_test.reshape(-1,1)\n",
    "\n",
    "#Scale the Data\n",
    "from sklearn.preprocessing import StandardScaler\n",
    "sc = StandardScaler()\n",
    "x_train3 = sc.fit_transform(x_train2)\n",
    "x_test3 = sc.transform(x_test2)\n",
    "\n",
    "#Model\n",
    "from sklearn.linear_model import LinearRegression\n",
    "from sklearn import metrics"
   ]
  },
  {
   "cell_type": "code",
   "execution_count": 10,
   "metadata": {},
   "outputs": [
    {
     "name": "stdout",
     "output_type": "stream",
     "text": [
      "\n",
      "Original Model\n",
      "\n",
      "Method: Linear regression\n",
      "\n",
      "Intercept: 41.20\n",
      "Coefficient: 19.94\n",
      "\n",
      "R2: 0.79\n",
      "Mean Absolute Error: 8.80\n",
      "Mean Squared Error: 121.11\n",
      "Root Mean Squared Error: 11.01\n"
     ]
    }
   ],
   "source": [
    "#Create Orginal Model\n",
    "for name,method in [('Linear regression', LinearRegression())]: \n",
    "    method.fit(x_train3,y_train)\n",
    "    predict = method.predict(x_test3)\n",
    "\n",
    "print('\\nOriginal Model')\n",
    "print('\\nMethod: {}'.format(name)) \n",
    "\n",
    "#Coefficents\n",
    "print('\\nIntercept: {:0.2f}'.format(float(method.intercept_)))\n",
    "print('Coefficient: {:0.2f}'.format((float(method.coef_))))\n",
    "    \n",
    "#MAE,MSE and RMSE\n",
    "print('\\nR2: {:0.2f}'.format(metrics.r2_score(y_test,predict)))\n",
    "print('Mean Absolute Error: {:0.2f}'.format(metrics.mean_absolute_error(y_test, predict)))  \n",
    "print('Mean Squared Error: {:0.2f}'.format(metrics.mean_squared_error(y_test, predict)))  \n",
    "print('Root Mean Squared Error: {:0.2f}'.format(np.sqrt(metrics.mean_squared_error(y_test, predict)))) "
   ]
  },
  {
   "cell_type": "code",
   "execution_count": 11,
   "metadata": {},
   "outputs": [],
   "source": [
    "#If Not normal you can use Yeo-Johnson Transformation\n",
    "\n",
    "#Load Dataset\n",
    "dataset_trf=carslm.drop('id',axis=1)\n",
    "\n",
    "#Define x and y variable\n",
    "x_trf=dataset_trf['speed'].to_numpy()\n",
    "y_trf=dataset_trf['dist'].to_numpy()\n",
    "\n",
    "#Load Library for Training Dataset\n",
    "from sklearn.model_selection import train_test_split\n",
    "x_train_trf,x_test_trf,y_train_trf,y_test_trf=train_test_split(x_trf,y_trf,test_size=0.2,random_state=100)\n",
    "\n",
    "#Converting variables to 2D\n",
    "x_train_trf = x_train_trf.reshape(-1,1)\n",
    "x_test_trf = x_test_trf.reshape(-1,1)\n",
    "y_train_trf = y_train_trf.reshape(-1,1)\n",
    "y_test_trf = y_test_trf.reshape(-1,1)\n",
    "\n",
    "#Scale Independent Variables\n",
    "from sklearn.preprocessing import StandardScaler\n",
    "sc = StandardScaler()\n",
    "x_train_trf = sc.fit_transform(x_train_trf)\n",
    "x_test_trf = sc.transform(x_test_trf)\n",
    "\n",
    "#Tranform Dependent Variable\n",
    "from sklearn.preprocessing import power_transform\n",
    "transf_ytrain=power_transform(y_train_trf,method='yeo-johnson')\n",
    "transf_ytest=power_transform(y_test_trf,method='yeo-johnson')"
   ]
  },
  {
   "cell_type": "code",
   "execution_count": 12,
   "metadata": {},
   "outputs": [
    {
     "name": "stdout",
     "output_type": "stream",
     "text": [
      "\n",
      "Transformed Model - Yeo-Johnson\n",
      "\n",
      "Method: Linear regression\n",
      "\n",
      "Intercept: 0.00\n",
      "Coefficient: 0.82\n",
      "\n",
      "R2: 0.66\n",
      "Root Mean Squared Error: 1.80\n"
     ]
    }
   ],
   "source": [
    "#Create Tranformed Model\n",
    "for name,method2 in [('Linear regression', LinearRegression())]: \n",
    "    method2.fit(x_train_trf,transf_ytrain)\n",
    "    predict = method2.predict(x_test_trf)\n",
    "\n",
    "print('\\nTransformed Model - Yeo-Johnson')\n",
    "print('\\nMethod: {}'.format(name)) \n",
    "\n",
    "#Coefficents\n",
    "print('\\nIntercept: {:0.2f}'.format(float(method2.intercept_)))\n",
    "print('Coefficient: {:0.2f}'.format((float(method2.coef_))))\n",
    "    \n",
    "#R2 and RMSE\n",
    "print('\\nR2: {:0.2f}'.format(metrics.r2_score(transf_ytest,predict)))\n",
    "print('Root Mean Squared Error: {:0.2f}'.format(np.exp(np.sqrt(metrics.mean_squared_error(transf_ytest, predict))))) "
   ]
  },
  {
   "cell_type": "code",
   "execution_count": 13,
   "metadata": {},
   "outputs": [
    {
     "name": "stdout",
     "output_type": "stream",
     "text": [
      "Prediction Distance - Original: 120.96\n",
      "Prediction Distance - Transformed Model: 32.95\n"
     ]
    }
   ],
   "source": [
    "#Predictions \n",
    "raw_data={'speedNew':[4]}\n",
    "dfnew=pd.DataFrame(raw_data, columns = ['speedNew'])\n",
    "dfnewdataset = pd.DataFrame(raw_data, columns = ['speedNew']).values\n",
    "print('Prediction Distance - Original: {:0.2f}'.format(float(method.predict(dfnewdataset))))\n",
    "print('Prediction Distance - Transformed Model: {:0.2f}'.format((float(method2.predict(dfnewdataset)*10))))"
   ]
  }
 ],
 "metadata": {
  "kernelspec": {
   "display_name": "Python 3",
   "language": "python",
   "name": "python3"
  },
  "language_info": {
   "codemirror_mode": {
    "name": "ipython",
    "version": 3
   },
   "file_extension": ".py",
   "mimetype": "text/x-python",
   "name": "python",
   "nbconvert_exporter": "python",
   "pygments_lexer": "ipython3",
   "version": "3.8.8"
  }
 },
 "nbformat": 4,
 "nbformat_minor": 2
}
