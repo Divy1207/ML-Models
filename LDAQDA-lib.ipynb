{
 "cells": [
  {
   "cell_type": "code",
   "execution_count": 1,
   "metadata": {},
   "outputs": [],
   "source": [
    "#Load Libraries\n",
    "import numpy as np\n",
    "import pandas as pd\n",
    "import matplotlib.pyplot as plt\n",
    "%matplotlib inline\n",
    "import seaborn as sns"
   ]
  },
  {
   "cell_type": "code",
   "execution_count": 2,
   "metadata": {},
   "outputs": [
    {
     "data": {
      "text/html": [
       "<div>\n",
       "<style scoped>\n",
       "    .dataframe tbody tr th:only-of-type {\n",
       "        vertical-align: middle;\n",
       "    }\n",
       "\n",
       "    .dataframe tbody tr th {\n",
       "        vertical-align: top;\n",
       "    }\n",
       "\n",
       "    .dataframe thead th {\n",
       "        text-align: right;\n",
       "    }\n",
       "</style>\n",
       "<table border=\"1\" class=\"dataframe\">\n",
       "  <thead>\n",
       "    <tr style=\"text-align: right;\">\n",
       "      <th></th>\n",
       "      <th>Pregnancies</th>\n",
       "      <th>Glucose</th>\n",
       "      <th>BloodPressure</th>\n",
       "      <th>SkinThickness</th>\n",
       "      <th>Insulin</th>\n",
       "      <th>BMI</th>\n",
       "      <th>DiabetesPedigreeFunction</th>\n",
       "      <th>Age</th>\n",
       "      <th>Outcome</th>\n",
       "    </tr>\n",
       "  </thead>\n",
       "  <tbody>\n",
       "    <tr>\n",
       "      <th>0</th>\n",
       "      <td>6</td>\n",
       "      <td>148</td>\n",
       "      <td>72</td>\n",
       "      <td>35</td>\n",
       "      <td>0</td>\n",
       "      <td>33.6</td>\n",
       "      <td>0.627</td>\n",
       "      <td>50</td>\n",
       "      <td>1</td>\n",
       "    </tr>\n",
       "    <tr>\n",
       "      <th>1</th>\n",
       "      <td>1</td>\n",
       "      <td>85</td>\n",
       "      <td>66</td>\n",
       "      <td>29</td>\n",
       "      <td>0</td>\n",
       "      <td>26.6</td>\n",
       "      <td>0.351</td>\n",
       "      <td>31</td>\n",
       "      <td>0</td>\n",
       "    </tr>\n",
       "    <tr>\n",
       "      <th>2</th>\n",
       "      <td>8</td>\n",
       "      <td>183</td>\n",
       "      <td>64</td>\n",
       "      <td>0</td>\n",
       "      <td>0</td>\n",
       "      <td>23.3</td>\n",
       "      <td>0.672</td>\n",
       "      <td>32</td>\n",
       "      <td>1</td>\n",
       "    </tr>\n",
       "    <tr>\n",
       "      <th>3</th>\n",
       "      <td>1</td>\n",
       "      <td>89</td>\n",
       "      <td>66</td>\n",
       "      <td>23</td>\n",
       "      <td>94</td>\n",
       "      <td>28.1</td>\n",
       "      <td>0.167</td>\n",
       "      <td>21</td>\n",
       "      <td>0</td>\n",
       "    </tr>\n",
       "    <tr>\n",
       "      <th>4</th>\n",
       "      <td>0</td>\n",
       "      <td>137</td>\n",
       "      <td>40</td>\n",
       "      <td>35</td>\n",
       "      <td>168</td>\n",
       "      <td>43.1</td>\n",
       "      <td>2.288</td>\n",
       "      <td>33</td>\n",
       "      <td>1</td>\n",
       "    </tr>\n",
       "  </tbody>\n",
       "</table>\n",
       "</div>"
      ],
      "text/plain": [
       "   Pregnancies  Glucose  BloodPressure  SkinThickness  Insulin   BMI  \\\n",
       "0            6      148             72             35        0  33.6   \n",
       "1            1       85             66             29        0  26.6   \n",
       "2            8      183             64              0        0  23.3   \n",
       "3            1       89             66             23       94  28.1   \n",
       "4            0      137             40             35      168  43.1   \n",
       "\n",
       "   DiabetesPedigreeFunction  Age  Outcome  \n",
       "0                     0.627   50        1  \n",
       "1                     0.351   31        0  \n",
       "2                     0.672   32        1  \n",
       "3                     0.167   21        0  \n",
       "4                     2.288   33        1  "
      ]
     },
     "execution_count": 2,
     "metadata": {},
     "output_type": "execute_result"
    }
   ],
   "source": [
    "#Load Dataset\n",
    "dataset=pd.read_csv('./diabetes.csv')\n",
    "dataset.head()"
   ]
  },
  {
   "cell_type": "code",
   "execution_count": 3,
   "metadata": {},
   "outputs": [
    {
     "data": {
      "text/html": [
       "<div>\n",
       "<style scoped>\n",
       "    .dataframe tbody tr th:only-of-type {\n",
       "        vertical-align: middle;\n",
       "    }\n",
       "\n",
       "    .dataframe tbody tr th {\n",
       "        vertical-align: top;\n",
       "    }\n",
       "\n",
       "    .dataframe thead th {\n",
       "        text-align: right;\n",
       "    }\n",
       "</style>\n",
       "<table border=\"1\" class=\"dataframe\">\n",
       "  <thead>\n",
       "    <tr style=\"text-align: right;\">\n",
       "      <th></th>\n",
       "      <th>Pregnancies</th>\n",
       "      <th>Glucose</th>\n",
       "      <th>BloodPressure</th>\n",
       "      <th>SkinThickness</th>\n",
       "      <th>Insulin</th>\n",
       "      <th>BMI</th>\n",
       "      <th>DiabetesPedigreeFunction</th>\n",
       "      <th>Age</th>\n",
       "      <th>Outcome</th>\n",
       "    </tr>\n",
       "  </thead>\n",
       "  <tbody>\n",
       "    <tr>\n",
       "      <th>count</th>\n",
       "      <td>768.000000</td>\n",
       "      <td>768.000000</td>\n",
       "      <td>768.000000</td>\n",
       "      <td>768.000000</td>\n",
       "      <td>768.000000</td>\n",
       "      <td>768.000000</td>\n",
       "      <td>768.000000</td>\n",
       "      <td>768.000000</td>\n",
       "      <td>768.000000</td>\n",
       "    </tr>\n",
       "    <tr>\n",
       "      <th>mean</th>\n",
       "      <td>3.845052</td>\n",
       "      <td>120.894531</td>\n",
       "      <td>69.105469</td>\n",
       "      <td>20.536458</td>\n",
       "      <td>79.799479</td>\n",
       "      <td>31.992578</td>\n",
       "      <td>0.471876</td>\n",
       "      <td>33.240885</td>\n",
       "      <td>0.348958</td>\n",
       "    </tr>\n",
       "    <tr>\n",
       "      <th>std</th>\n",
       "      <td>3.369578</td>\n",
       "      <td>31.972618</td>\n",
       "      <td>19.355807</td>\n",
       "      <td>15.952218</td>\n",
       "      <td>115.244002</td>\n",
       "      <td>7.884160</td>\n",
       "      <td>0.331329</td>\n",
       "      <td>11.760232</td>\n",
       "      <td>0.476951</td>\n",
       "    </tr>\n",
       "    <tr>\n",
       "      <th>min</th>\n",
       "      <td>0.000000</td>\n",
       "      <td>0.000000</td>\n",
       "      <td>0.000000</td>\n",
       "      <td>0.000000</td>\n",
       "      <td>0.000000</td>\n",
       "      <td>0.000000</td>\n",
       "      <td>0.078000</td>\n",
       "      <td>21.000000</td>\n",
       "      <td>0.000000</td>\n",
       "    </tr>\n",
       "    <tr>\n",
       "      <th>25%</th>\n",
       "      <td>1.000000</td>\n",
       "      <td>99.000000</td>\n",
       "      <td>62.000000</td>\n",
       "      <td>0.000000</td>\n",
       "      <td>0.000000</td>\n",
       "      <td>27.300000</td>\n",
       "      <td>0.243750</td>\n",
       "      <td>24.000000</td>\n",
       "      <td>0.000000</td>\n",
       "    </tr>\n",
       "    <tr>\n",
       "      <th>50%</th>\n",
       "      <td>3.000000</td>\n",
       "      <td>117.000000</td>\n",
       "      <td>72.000000</td>\n",
       "      <td>23.000000</td>\n",
       "      <td>30.500000</td>\n",
       "      <td>32.000000</td>\n",
       "      <td>0.372500</td>\n",
       "      <td>29.000000</td>\n",
       "      <td>0.000000</td>\n",
       "    </tr>\n",
       "    <tr>\n",
       "      <th>75%</th>\n",
       "      <td>6.000000</td>\n",
       "      <td>140.250000</td>\n",
       "      <td>80.000000</td>\n",
       "      <td>32.000000</td>\n",
       "      <td>127.250000</td>\n",
       "      <td>36.600000</td>\n",
       "      <td>0.626250</td>\n",
       "      <td>41.000000</td>\n",
       "      <td>1.000000</td>\n",
       "    </tr>\n",
       "    <tr>\n",
       "      <th>max</th>\n",
       "      <td>17.000000</td>\n",
       "      <td>199.000000</td>\n",
       "      <td>122.000000</td>\n",
       "      <td>99.000000</td>\n",
       "      <td>846.000000</td>\n",
       "      <td>67.100000</td>\n",
       "      <td>2.420000</td>\n",
       "      <td>81.000000</td>\n",
       "      <td>1.000000</td>\n",
       "    </tr>\n",
       "  </tbody>\n",
       "</table>\n",
       "</div>"
      ],
      "text/plain": [
       "       Pregnancies     Glucose  BloodPressure  SkinThickness     Insulin  \\\n",
       "count   768.000000  768.000000     768.000000     768.000000  768.000000   \n",
       "mean      3.845052  120.894531      69.105469      20.536458   79.799479   \n",
       "std       3.369578   31.972618      19.355807      15.952218  115.244002   \n",
       "min       0.000000    0.000000       0.000000       0.000000    0.000000   \n",
       "25%       1.000000   99.000000      62.000000       0.000000    0.000000   \n",
       "50%       3.000000  117.000000      72.000000      23.000000   30.500000   \n",
       "75%       6.000000  140.250000      80.000000      32.000000  127.250000   \n",
       "max      17.000000  199.000000     122.000000      99.000000  846.000000   \n",
       "\n",
       "              BMI  DiabetesPedigreeFunction         Age     Outcome  \n",
       "count  768.000000                768.000000  768.000000  768.000000  \n",
       "mean    31.992578                  0.471876   33.240885    0.348958  \n",
       "std      7.884160                  0.331329   11.760232    0.476951  \n",
       "min      0.000000                  0.078000   21.000000    0.000000  \n",
       "25%     27.300000                  0.243750   24.000000    0.000000  \n",
       "50%     32.000000                  0.372500   29.000000    0.000000  \n",
       "75%     36.600000                  0.626250   41.000000    1.000000  \n",
       "max     67.100000                  2.420000   81.000000    1.000000  "
      ]
     },
     "execution_count": 3,
     "metadata": {},
     "output_type": "execute_result"
    }
   ],
   "source": [
    "#Show Key Statistics\n",
    "dataset.describe()"
   ]
  },
  {
   "cell_type": "code",
   "execution_count": 4,
   "metadata": {},
   "outputs": [
    {
     "data": {
      "application/vnd.jupyter.widget-view+json": {
       "model_id": "c47198a95cc64349a1bc1a9a78dfa8bc",
       "version_major": 2,
       "version_minor": 0
      },
      "text/plain": [
       "Summarize dataset:   0%|          | 0/22 [00:00<?, ?it/s]"
      ]
     },
     "metadata": {},
     "output_type": "display_data"
    },
    {
     "data": {
      "application/vnd.jupyter.widget-view+json": {
       "model_id": "5d0d5085815f4164a899462a1c3432b9",
       "version_major": 2,
       "version_minor": 0
      },
      "text/plain": [
       "Generate report structure:   0%|          | 0/1 [00:00<?, ?it/s]"
      ]
     },
     "metadata": {},
     "output_type": "display_data"
    },
    {
     "data": {
      "application/vnd.jupyter.widget-view+json": {
       "model_id": "913f3c0b1a58468898f07b0599c16920",
       "version_major": 2,
       "version_minor": 0
      },
      "text/plain": [
       "Render HTML:   0%|          | 0/1 [00:00<?, ?it/s]"
      ]
     },
     "metadata": {},
     "output_type": "display_data"
    },
    {
     "data": {
      "application/vnd.jupyter.widget-view+json": {
       "model_id": "6cdb7578bfc8445f8afc8d8ebb71da39",
       "version_major": 2,
       "version_minor": 0
      },
      "text/plain": [
       "Export report to file:   0%|          | 0/1 [00:00<?, ?it/s]"
      ]
     },
     "metadata": {},
     "output_type": "display_data"
    },
    {
     "data": {
      "text/html": [
       "\n",
       "        <iframe\n",
       "            width=\"900\"\n",
       "            height=\"350\"\n",
       "            src=\"DiabetesReportW5a-lib.html\"\n",
       "            frameborder=\"0\"\n",
       "            allowfullscreen\n",
       "        ></iframe>\n",
       "        "
      ],
      "text/plain": [
       "<IPython.lib.display.IFrame at 0x209ced70670>"
      ]
     },
     "metadata": {},
     "output_type": "display_data"
    }
   ],
   "source": [
    "#Create Profile Report\n",
    " \n",
    "#Importing package\n",
    "import pandas_profiling as pp\n",
    "from IPython.display import IFrame\n",
    " \n",
    "# Profile Report\n",
    "DiabetesReport = pp.ProfileReport(dataset)\n",
    "DiabetesReport.to_file('DiabetesReportW5a-lib.html')\n",
    "display(IFrame('DiabetesReportW5a-lib.html', width=900, height=350))"
   ]
  },
  {
   "cell_type": "code",
   "execution_count": 5,
   "metadata": {},
   "outputs": [
    {
     "name": "stdout",
     "output_type": "stream",
     "text": [
      "Pregnancies\n",
      "Statistics=22.747, p=0.000\n",
      "Covariance different(reject H0)\n",
      "\n",
      "\n",
      "Glucose\n",
      "Statistics=20.945, p=0.000\n",
      "Covariance different(reject H0)\n",
      "\n",
      "\n",
      "BloodPressure\n",
      "Statistics=1.712, p=0.191\n",
      "Covariance the Same (fail to reject H0)\n",
      "\n",
      "\n",
      "SkinThickness\n",
      "Statistics=10.959, p=0.001\n",
      "Covariance different(reject H0)\n",
      "\n",
      "\n",
      "Insulin\n",
      "Statistics=17.816, p=0.000\n",
      "Covariance different(reject H0)\n",
      "\n",
      "\n",
      "BMI\n",
      "Statistics=2.620, p=0.106\n",
      "Covariance the Same (fail to reject H0)\n",
      "\n",
      "\n",
      "DiabetesPedigreeFunction\n",
      "Statistics=11.798, p=0.001\n",
      "Covariance different(reject H0)\n",
      "\n",
      "\n",
      "Age\n",
      "Statistics=2.225, p=0.136\n",
      "Covariance the Same (fail to reject H0)\n",
      "\n",
      "\n"
     ]
    }
   ],
   "source": [
    "#Covariance test - Levene Test\n",
    "\n",
    "#   p <= alpha(0.05): reject H0, not the same covariance.\n",
    "#   p > alpha(0.05): fail to reject H0, same covariance.\n",
    "\n",
    "import scipy.stats as stats\n",
    "names=dataset.get('Outcome')\n",
    "\n",
    "cnt=1\n",
    "for col in dataset.columns:\n",
    "    if (col=='Outcome'):\n",
    "        continue\n",
    "        \n",
    "    stat, p = stats.levene(dataset[col][dataset['Outcome'] == names[0]], \n",
    "               dataset[col][dataset['Outcome'] == names[1]])\n",
    "\n",
    "    print(col)\n",
    "    print('Statistics=%.3f, p=%.3f' % (stat, p))\n",
    "    # interpret\n",
    "    alpha = 0.05\n",
    "    if p > alpha:\n",
    "        print('Covariance the Same (fail to reject H0)')\n",
    "        print('\\n')\n",
    "    else:\n",
    "        print('Covariance different(reject H0)')\n",
    "        print('\\n')\n",
    "    cnt +=1    "
   ]
  },
  {
   "cell_type": "code",
   "execution_count": 6,
   "metadata": {},
   "outputs": [],
   "source": [
    "#Create x and y variables\n",
    "x = dataset.drop('Outcome', axis=1).to_numpy()\n",
    "Y = dataset['Outcome'].to_numpy()\n",
    "\n",
    "#Create Train and Test Dataset\n",
    "from sklearn.model_selection import train_test_split\n",
    "x_train,x_test,y_train,y_test = train_test_split(x,Y,test_size = 0.2,stratify=Y,random_state = 100)\n",
    "\n",
    "#Fix the imbalanced Classes\n",
    "from imblearn.over_sampling import SMOTE\n",
    "smt=SMOTE(random_state=100)\n",
    "x_train_smt,y_train_smt = smt.fit_resample(x_train,y_train)\n",
    "\n",
    "#Scale the Data\n",
    "from sklearn.preprocessing import StandardScaler\n",
    "sc = StandardScaler()\n",
    "x_train2 = sc.fit_transform(x_train_smt)\n",
    "x_test2 = sc.transform(x_test)\n",
    "\n",
    "#Models\n",
    "from sklearn.discriminant_analysis import LinearDiscriminantAnalysis, QuadraticDiscriminantAnalysis\n",
    "from sklearn.linear_model import LogisticRegression"
   ]
  },
  {
   "cell_type": "code",
   "execution_count": 7,
   "metadata": {},
   "outputs": [
    {
     "name": "stdout",
     "output_type": "stream",
     "text": [
      "Train Data - Class Split\n",
      "Class 0 - 400\n",
      "Class 1 - 400\n"
     ]
    }
   ],
   "source": [
    "#Class Balance - Test Data\n",
    "print('Train Data - Class Split')\n",
    "num_zeros = (y_train_smt == 0).sum()\n",
    "num_ones = (y_train_smt == 1).sum()\n",
    "print('Class 0 -',  num_zeros)\n",
    "print('Class 1 -',  num_ones)"
   ]
  },
  {
   "cell_type": "code",
   "execution_count": 8,
   "metadata": {},
   "outputs": [
    {
     "name": "stdout",
     "output_type": "stream",
     "text": [
      "\n",
      "Estimator: LDA\n",
      "[[78 22]\n",
      " [15 39]]\n",
      "              precision    recall  f1-score   support\n",
      "\n",
      "           0       0.84      0.78      0.81       100\n",
      "           1       0.64      0.72      0.68        54\n",
      "\n",
      "    accuracy                           0.76       154\n",
      "   macro avg       0.74      0.75      0.74       154\n",
      "weighted avg       0.77      0.76      0.76       154\n",
      "\n",
      "\n",
      "Estimator: QDA\n",
      "[[83 17]\n",
      " [16 38]]\n",
      "              precision    recall  f1-score   support\n",
      "\n",
      "           0       0.84      0.83      0.83       100\n",
      "           1       0.69      0.70      0.70        54\n",
      "\n",
      "    accuracy                           0.79       154\n",
      "   macro avg       0.76      0.77      0.77       154\n",
      "weighted avg       0.79      0.79      0.79       154\n",
      "\n",
      "\n",
      "Estimator: LogReg\n",
      "[[75 25]\n",
      " [14 40]]\n",
      "              precision    recall  f1-score   support\n",
      "\n",
      "           0       0.84      0.75      0.79       100\n",
      "           1       0.62      0.74      0.67        54\n",
      "\n",
      "    accuracy                           0.75       154\n",
      "   macro avg       0.73      0.75      0.73       154\n",
      "weighted avg       0.76      0.75      0.75       154\n",
      "\n"
     ]
    }
   ],
   "source": [
    "#Base LDA, QDA and Logistical Regression Model\n",
    "from sklearn.metrics import classification_report, confusion_matrix  \n",
    "\n",
    "for name,method in [('LDA', LinearDiscriminantAnalysis()),('QDA',QuadraticDiscriminantAnalysis()),\n",
    "                   ('LogReg',LogisticRegression(solver='liblinear',\n",
    "                                               class_weight='balanced',\n",
    "                                               random_state=100))]: \n",
    "    method.fit(x_train2,y_train_smt)\n",
    "    predict = method.predict(x_test2)\n",
    "    print('\\nEstimator: {}'.format(name)) \n",
    "    print(confusion_matrix(y_test,predict))  \n",
    "    print(classification_report(y_test,predict))         "
   ]
  },
  {
   "cell_type": "code",
   "execution_count": 9,
   "metadata": {},
   "outputs": [],
   "source": [
    "#Construct some pipelines \n",
    "from sklearn.pipeline import Pipeline\n",
    "from sklearn.preprocessing import StandardScaler\n",
    "\n",
    "#Create Pipeline\n",
    "\n",
    "pipeline =[]\n",
    "\n",
    "pipe_lda = Pipeline([('scl', StandardScaler()),\n",
    "                    ('clf', LinearDiscriminantAnalysis())])\n",
    "pipeline.insert(0,pipe_lda)\n",
    "\n",
    "pipe_qda = Pipeline([('scl', StandardScaler()),\n",
    "                    ('clf', QuadraticDiscriminantAnalysis())])\n",
    "pipeline.insert(1,pipe_qda)\n",
    "\n",
    "pipe_logreg = Pipeline([('scl', StandardScaler()),\n",
    "                    ('clf', LogisticRegression(solver='liblinear',\n",
    "                                               class_weight='balanced',\n",
    "                                               random_state=100))])   \n",
    "pipeline.insert(2,pipe_logreg)\n",
    "    \n",
    "    \n",
    "# Set grid search params \n",
    "\n",
    "modelpara =[]\n",
    "\n",
    "param_gridlda = {'clf__solver':['svd','lsqr','eigen']}\n",
    "modelpara.insert(0,param_gridlda)\n",
    "\n",
    "param_gridqda = {}\n",
    "modelpara.insert(1,param_gridqda)\n",
    "\n",
    "param_gridlogreg = {'clf__C': [0.01, 0.1, 1, 10, 100], \n",
    "                    'clf__penalty': ['l1', 'l2']}\n",
    "modelpara.insert(2,param_gridlogreg)"
   ]
  },
  {
   "cell_type": "code",
   "execution_count": 10,
   "metadata": {},
   "outputs": [],
   "source": [
    "#Define Plot for learning curve\n",
    "\n",
    "from sklearn.model_selection import learning_curve\n",
    "\n",
    "def plot_learning_curves(model):\n",
    "    train_sizes, train_scores, test_scores = learning_curve(estimator=model,\n",
    "                                                            X=x_train_smt, \n",
    "                                                            y=y_train_smt,\n",
    "                                                            train_sizes= np.linspace(0.1, 1.0, 10),\n",
    "                                                            cv=10,\n",
    "                                                            scoring='recall_weighted',random_state=100)\n",
    "    train_mean = np.mean(train_scores, axis=1)\n",
    "    train_std = np.std(train_scores, axis=1)\n",
    "    test_mean = np.mean(test_scores, axis=1)\n",
    "    test_std = np.std(test_scores, axis=1)\n",
    "    \n",
    "    plt.plot(train_sizes, train_mean,color='blue', marker='o', \n",
    "             markersize=5, label='training recall')\n",
    "    plt.fill_between(train_sizes, train_mean + train_std, train_mean - train_std,\n",
    "                     alpha=0.15, color='blue')\n",
    "\n",
    "    plt.plot(train_sizes, test_mean, color='green', linestyle='--', marker='s', markersize=5,\n",
    "             label='validation recall')\n",
    "    plt.fill_between(train_sizes, test_mean + test_std, test_mean - test_std,\n",
    "                     alpha=0.15, color='green')\n",
    "    plt.grid(True)\n",
    "    plt.xlabel('Number of training samples')\n",
    "    plt.ylabel('Recall')\n",
    "    plt.legend(loc='best')\n",
    "    plt.ylim([0.5, 1.0])\n",
    "    plt.show()"
   ]
  },
  {
   "cell_type": "code",
   "execution_count": 11,
   "metadata": {},
   "outputs": [
    {
     "name": "stdout",
     "output_type": "stream",
     "text": [
      "LDA Learning Curve\n"
     ]
    },
    {
     "data": {
      "image/png": "[encoded data removed]",
      "text/plain": [
       "<Figure size 432x288 with 1 Axes>"
      ]
     },
     "metadata": {
      "needs_background": "light"
     },
     "output_type": "display_data"
    },
    {
     "name": "stdout",
     "output_type": "stream",
     "text": [
      "\n",
      " QDA Learning Curve\n"
     ]
    },
    {
     "data": {
      "image/png": "[encoded data removed]",
      "text/plain": [
       "<Figure size 432x288 with 1 Axes>"
      ]
     },
     "metadata": {
      "needs_background": "light"
     },
     "output_type": "display_data"
    },
    {
     "name": "stdout",
     "output_type": "stream",
     "text": [
      "\n",
      " Logistic Regression Learning Curve\n"
     ]
    },
    {
     "data": {
      "image/png": "[encoded data removed]",
      "text/plain": [
       "<Figure size 432x288 with 1 Axes>"
      ]
     },
     "metadata": {
      "needs_background": "light"
     },
     "output_type": "display_data"
    }
   ],
   "source": [
    "#Plot Learning Curve\n",
    "print('LDA Learning Curve')\n",
    "plot_learning_curves(pipe_lda)\n",
    "print('\\n QDA Learning Curve')\n",
    "plot_learning_curves(pipe_qda)\n",
    "print('\\n Logistic Regression Learning Curve')\n",
    "plot_learning_curves(pipe_logreg)"
   ]
  },
  {
   "cell_type": "code",
   "execution_count": 12,
   "metadata": {},
   "outputs": [
    {
     "name": "stdout",
     "output_type": "stream",
     "text": [
      "Model Evaluation - Recall Score\n",
      "LDA 0.74 +/- 0.04\n",
      "QDA 0.72 +/- 0.05\n",
      "Log Reg 0.75 +/- 0.05\n",
      "\n",
      "\n"
     ]
    },
    {
     "data": {
      "image/png": "[encoded data removed]",
      "text/plain": [
       "<Figure size 720x360 with 1 Axes>"
      ]
     },
     "metadata": {
      "needs_background": "light"
     },
     "output_type": "display_data"
    }
   ],
   "source": [
    "#Model Analysis\n",
    "from sklearn.model_selection import RepeatedKFold\n",
    "from sklearn.model_selection import cross_val_score\n",
    "\n",
    "models=[]\n",
    "models.append(('LDA',pipe_lda))\n",
    "models.append(('QDA',pipe_qda))\n",
    "models.append(('Log Reg',pipe_logreg))\n",
    "\n",
    "#Model Evaluation\n",
    "results =[]\n",
    "names=[]\n",
    "scoring ='recall_weighted'\n",
    "print('Model Evaluation - Recall Score')\n",
    "for name, model in models:\n",
    "    rkf=RepeatedKFold(n_splits=10, n_repeats=5, random_state=100)\n",
    "    cv_results = cross_val_score(model,x_train_smt,y_train_smt,cv=rkf,scoring=scoring)\n",
    "    results.append(cv_results)\n",
    "    names.append(name)\n",
    "    print('{} {:.2f} +/- {:.2f}'.format(name,cv_results.mean(),cv_results.std()))\n",
    "print('\\n') \n",
    "\n",
    "fig = plt.figure(figsize=(10,5))\n",
    "fig.suptitle('Boxplot View')\n",
    "ax = fig.add_subplot(111)\n",
    "sns.boxplot(data=results)\n",
    "ax.set_xticklabels(names)\n",
    "plt.ylabel('Recall')\n",
    "plt.xlabel('Model')\n",
    "plt.show()"
   ]
  },
  {
   "cell_type": "code",
   "execution_count": 13,
   "metadata": {},
   "outputs": [],
   "source": [
    "#Define Gridsearch Function\n",
    "\n",
    "from sklearn.model_selection import GridSearchCV\n",
    "from sklearn.metrics import classification_report, confusion_matrix  \n",
    "\n",
    "def Gridsearch_cv(model, params):\n",
    "    \n",
    "    #Cross-validation Function\n",
    "    cv2=RepeatedKFold(n_splits=10, n_repeats=5, random_state=100)\n",
    "        \n",
    "    #GridSearch CV\n",
    "    gs_clf = GridSearchCV(model, params, cv=cv2,scoring='recall_weighted')\n",
    "    gs_clf = gs_clf.fit(x_train_smt, y_train_smt)\n",
    "    model = gs_clf.best_estimator_\n",
    "    \n",
    "    # Use best model and test data for final evaluation\n",
    "    y_pred = model.predict(x_test)\n",
    "\n",
    "    #Identify Best Parameters to Optimize the Model\n",
    "    bestpara=str(gs_clf.best_params_)\n",
    "    \n",
    "    #Output Validation Statistics\n",
    "    target_names=['Outcome 0','Outcome 1']\n",
    "    print('\\nOptimized Model')\n",
    "    print('\\nModel Name:',str(pipeline.named_steps['clf']))\n",
    "    print('\\nBest Parameters:',bestpara)\n",
    "    print('\\n', confusion_matrix(y_test,y_pred))  \n",
    "    print('\\n',classification_report(y_test,y_pred,target_names=target_names)) \n",
    "        \n",
    "    #Transform the variables into binary (0,1) - ROC Curve\n",
    "    from sklearn import preprocessing\n",
    "    Forecast1=pd.DataFrame(y_pred)\n",
    "    Outcome1=pd.DataFrame(y_test)\n",
    "    lb1 = preprocessing.LabelBinarizer()\n",
    "    OutcomeB1 =lb1.fit_transform(Outcome1)\n",
    "    ForecastB1 = lb1.fit_transform(Forecast1)\n",
    "    \n",
    "    #Setup the ROC Curve\n",
    "    from sklearn.metrics import roc_curve, auc\n",
    "    from sklearn import metrics\n",
    "    fpr, tpr, threshold = metrics.roc_curve(OutcomeB1, ForecastB1)\n",
    "    roc_auc = metrics.auc(fpr, tpr)\n",
    "    print('ROC Curve')\n",
    "    #Plot the ROC Curve\n",
    "    plt.title('Receiver Operating Characteristic')\n",
    "    plt.plot(fpr, tpr, 'b', label = 'AUC = %0.2f' % roc_auc)\n",
    "    plt.legend(loc = 'lower right')\n",
    "    plt.plot([0, 1], [0, 1],'r--')\n",
    "    plt.xlim([0, 1])\n",
    "    plt.ylim([0, 1])\n",
    "    plt.ylabel('True Positive Rate')\n",
    "    plt.xlabel('False Positive Rate')\n",
    "    plt.show()   "
   ]
  },
  {
   "cell_type": "code",
   "execution_count": 14,
   "metadata": {},
   "outputs": [
    {
     "name": "stdout",
     "output_type": "stream",
     "text": [
      "\n",
      "Optimized Model\n",
      "\n",
      "Model Name: LinearDiscriminantAnalysis()\n",
      "\n",
      "Best Parameters: {'clf__solver': 'svd'}\n",
      "\n",
      " [[78 22]\n",
      " [15 39]]\n",
      "\n",
      "               precision    recall  f1-score   support\n",
      "\n",
      "   Outcome 0       0.84      0.78      0.81       100\n",
      "   Outcome 1       0.64      0.72      0.68        54\n",
      "\n",
      "    accuracy                           0.76       154\n",
      "   macro avg       0.74      0.75      0.74       154\n",
      "weighted avg       0.77      0.76      0.76       154\n",
      "\n",
      "ROC Curve\n"
     ]
    },
    {
     "data": {
      "image/png": "[encoded data removed]",
      "text/plain": [
       "<Figure size 432x288 with 1 Axes>"
      ]
     },
     "metadata": {
      "needs_background": "light"
     },
     "output_type": "display_data"
    },
    {
     "name": "stdout",
     "output_type": "stream",
     "text": [
      "\n",
      "Optimized Model\n",
      "\n",
      "Model Name: QuadraticDiscriminantAnalysis()\n",
      "\n",
      "Best Parameters: {}\n",
      "\n",
      " [[83 17]\n",
      " [16 38]]\n",
      "\n",
      "               precision    recall  f1-score   support\n",
      "\n",
      "   Outcome 0       0.84      0.83      0.83       100\n",
      "   Outcome 1       0.69      0.70      0.70        54\n",
      "\n",
      "    accuracy                           0.79       154\n",
      "   macro avg       0.76      0.77      0.77       154\n",
      "weighted avg       0.79      0.79      0.79       154\n",
      "\n",
      "ROC Curve\n"
     ]
    },
    {
     "data": {
      "image/png": "[encoded data removed]",
      "text/plain": [
       "<Figure size 432x288 with 1 Axes>"
      ]
     },
     "metadata": {
      "needs_background": "light"
     },
     "output_type": "display_data"
    },
    {
     "name": "stdout",
     "output_type": "stream",
     "text": [
      "\n",
      "Optimized Model\n",
      "\n",
      "Model Name: LogisticRegression(class_weight='balanced', random_state=100,\n",
      "                   solver='liblinear')\n",
      "\n",
      "Best Parameters: {'clf__C': 0.1, 'clf__penalty': 'l1'}\n",
      "\n",
      " [[78 22]\n",
      " [15 39]]\n",
      "\n",
      "               precision    recall  f1-score   support\n",
      "\n",
      "   Outcome 0       0.84      0.78      0.81       100\n",
      "   Outcome 1       0.64      0.72      0.68        54\n",
      "\n",
      "    accuracy                           0.76       154\n",
      "   macro avg       0.74      0.75      0.74       154\n",
      "weighted avg       0.77      0.76      0.76       154\n",
      "\n",
      "ROC Curve\n"
     ]
    },
    {
     "data": {
      "image/png": "[encoded data removed]",
      "text/plain": [
       "<Figure size 432x288 with 1 Axes>"
      ]
     },
     "metadata": {
      "needs_background": "light"
     },
     "output_type": "display_data"
    }
   ],
   "source": [
    "#Run Models\n",
    "\n",
    "for pipeline, modelpara in zip(pipeline,modelpara):\n",
    "    Gridsearch_cv(pipeline,modelpara)"
   ]
  }
 ],
 "metadata": {
  "kernelspec": {
   "display_name": "Python 3",
   "language": "python",
   "name": "python3"
  },
  "language_info": {
   "codemirror_mode": {
    "name": "ipython",
    "version": 3
   },
   "file_extension": ".py",
   "mimetype": "text/x-python",
   "name": "python",
   "nbconvert_exporter": "python",
   "pygments_lexer": "ipython3",
   "version": "3.8.8"
  }
 },
 "nbformat": 4,
 "nbformat_minor": 2
}
